{
 "cells": [
  {
   "cell_type": "code",
   "execution_count": null,
   "metadata": {},
   "outputs": [],
   "source": [
    "import pandas as pd"
   ]
  },
  {
   "cell_type": "code",
   "execution_count": null,
   "metadata": {},
   "outputs": [],
   "source": [
    "class Fase:\n",
    "    def __init__(self, tickets, puntos, horquilla=0, oso=0, tacon=0, s_escudo=0, s_espada=0, s_porra=0, s_bombardero=0, s_mago=0):\n",
    "        self.tickets = tickets\n",
    "        self.puntos = puntos\n",
    "        \n",
    "        self.objetos = {\n",
    "            \"horquillas\": horquilla,\n",
    "            \"osos\": oso,\n",
    "            \"tacones\": tacon,\n",
    "            \"soldados_escudo\": s_escudo,\n",
    "            \"soldados_espada\": s_espada,\n",
    "            \"soldados_porra\": s_porra,\n",
    "            \"soldados_bombardero\": s_bombardero,\n",
    "            \"soldados_mago\": s_mago\n",
    "        }\n",
    "\n",
    "# Definir los valores para 10 fases diferentes\n",
    "fase1 = Fase(10, 30, horquilla=60, oso=20, s_escudo=1, s_espada=1)\n",
    "fase2 = Fase(10, 30, oso=50, tacon=20, s_porra=1, s_bombardero=1)\n",
    "fase3 = Fase(10, 30, horquilla=20, tacon=50, s_mago=1)\n",
    "fase4 = Fase(12, 40, horquilla=160, s_espada=1, s_escudo=1)\n",
    "fase5 = Fase(12, 40, 5, 4, 3, 2, 1, 0, 0, 0)\n",
    "fase6 = Fase(12, 40, 6, 5, 4, 3, 2, 1, 0, 0)\n",
    "fase7 = Fase(12, 100, 7, 6, 5, 4, 3, 2, 1, 0)\n",
    "fase8 = Fase(15, 50, 8, 7, 6, 5, 4, 3, 2, 1)\n",
    "fase9 = Fase(15, 50, 9, 8, 7, 6, 5, 4, 3, 2)\n",
    "fase10 = Fase(15, 50, 10, 9, 8, 7, 6, 5, 4, 0)\n",
    "\n",
    "fases = (fase1, fase2, fase3, fase4, fase5, fase6, fase7, fase8, fase9, fase10)\n",
    "\n",
    "# Bonus actuales\n",
    "b_punt = 1\n",
    "b_hor = 1.40\n",
    "b_oso = 1.15\n",
    "b_taco = 1.1\n",
    "\n",
    "for fase in fases:\n",
    "    fase.puntos = int(fase.puntos * b_punt)\n",
    "    fase.objetos[\"horquillas\"] = int(fase.objetos[\"horquillas\"] * b_hor)\n",
    "    fase.objetos[\"osos\"] = int(fase.objetos[\"osos\"] * b_oso)\n",
    "    fase.objetos[\"tacones\"] = int(fase.objetos[\"tacones\"] * b_taco)\n"
   ]
  },
  {
   "cell_type": "code",
   "execution_count": null,
   "metadata": {},
   "outputs": [],
   "source": [
    "def read_df(path : str):\n",
    "    try:\n",
    "        df = pd.read_json(path)\n",
    "        return df\n",
    "    except:\n",
    "        print(\"No se ha encontrado el archivo\")"
   ]
  },
  {
   "cell_type": "code",
   "execution_count": null,
   "metadata": {},
   "outputs": [],
   "source": [
    "def print_info(tickets : int, df : pd.DataFrame, fases : tuple):\n",
    "    \n",
    "    print(df)\n",
    "\n",
    "    print(f\"\\n{tickets} tickets disponibles\\n\")\n",
    "    i = 1\n",
    "    \n",
    "    for fase in fases:\n",
    "        rondas = int(tickets/fase.tickets)\n",
    "        \n",
    "        if rondas != 0:\n",
    "            print(f\"Fase {i} ({rondas} rondas): {fase.puntos* rondas} puntos \\n\")\n",
    "            \n",
    "            for nombre, valor in fase.objetos.items():\n",
    "                if valor != 0:\n",
    "                    print(f\"{valor * rondas} {nombre}\")\n",
    "            print(\"\\n\")\n",
    "        i += 1\n",
    "        "
   ]
  },
  {
   "cell_type": "code",
   "execution_count": null,
   "metadata": {},
   "outputs": [],
   "source": [
    "def actualizar_puntos(fase : int, rondas : int, fases : tuple, df : pd.DataFrame, path : str):\n",
    "    if rondas > 10 or rondas <= 0:\n",
    "        print(\"No se puede realizar ese numero de rondas\")\n",
    "        return df\n",
    "    else:\n",
    "        df.Puntos_Actuales[\"puntos\"] += fases[fase].puntos\n",
    "        for nombre in fases[fase].objetos.keys():\n",
    "            df.Puntos_Actuales[nombre] += fases[fase].objetos[nombre] * rondas\n",
    "        \n",
    "        df[\"Puntos_Restantes\"] = df.Puntos_Maximos - df.Puntos_Actuales\n",
    "        df.to_json(path)\n",
    "        print(\"Actualizacion completada\")\n",
    "            \n",
    "    return df"
   ]
  },
  {
   "cell_type": "code",
   "execution_count": null,
   "metadata": {},
   "outputs": [],
   "source": [
    "df = read_df()\n",
    "path = \"puntos.json\"\n",
    "decision = input(\"Que quieres hacer: 1 = comprobar puntos, 2 = aplicar puntos, otros = salir\")\n",
    "try: \n",
    "    decision = int(decision)\n",
    "except ValueError:\n",
    "    pass\n",
    "\n",
    "match decision:\n",
    "    case 1:\n",
    "        tickets = input(\"Tickets disponibles\")\n",
    "        try:  \n",
    "            tickets = int(tickets)\n",
    "            if 180 >= tickets > 0:\n",
    "                print_info(tickets, df, fases)\n",
    "            else:\n",
    "                print(\"No es una cantidad permitida\")\n",
    "        except ValueError: \n",
    "            print(\"No son numeros enteros\")\n",
    "                 \n",
    "    case 2: \n",
    "        fase, rondas = input(\"Que fase has completado y cuantas rondas, separado por un espacio\").split(\" \")\n",
    "        \n",
    "        try:\n",
    "            fase = int(fase)\n",
    "            rondas = int(rondas)\n",
    "            actualizar_puntos(fase, rondas, fases, df, path)\n",
    "        except ValueError:\n",
    "            print(\"La fase y/o las veces completadas no son numeros enteros\")\n",
    "            \n",
    "    case other:\n",
    "        print(\"Adios\")"
   ]
  }
 ],
 "metadata": {
  "kernelspec": {
   "display_name": "base",
   "language": "python",
   "name": "python3"
  },
  "language_info": {
   "codemirror_mode": {
    "name": "ipython",
    "version": 3
   },
   "file_extension": ".py",
   "mimetype": "text/x-python",
   "name": "python",
   "nbconvert_exporter": "python",
   "pygments_lexer": "ipython3",
   "version": "3.11.5"
  },
  "orig_nbformat": 4
 },
 "nbformat": 4,
 "nbformat_minor": 2
}
